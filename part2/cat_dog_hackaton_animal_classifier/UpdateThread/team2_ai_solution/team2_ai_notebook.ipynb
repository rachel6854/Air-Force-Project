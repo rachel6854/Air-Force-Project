{
  "nbformat": 4,
  "nbformat_minor": 0,
  "metadata": {
    "colab": {
      "name": "team2_ai_notebook.ipynb",
      "provenance": [],
      "toc_visible": true
    },
    "kernelspec": {
      "display_name": "Python 3",
      "language": "python",
      "name": "python3"
    },
    "language_info": {
      "codemirror_mode": {
        "name": "ipython",
        "version": 3
      },
      "file_extension": ".py",
      "mimetype": "text/x-python",
      "name": "python",
      "nbconvert_exporter": "python",
      "pygments_lexer": "ipython3",
      "version": "3.8.3"
    }
  },
  "cells": [
    {
      "cell_type": "markdown",
      "metadata": {
        "id": "mSQ6mmN6S3i2"
      },
      "source": [
        "# אתגר 2"
      ]
    },
    {
      "cell_type": "markdown",
      "metadata": {
        "id": "OTA_L_DQS3i5"
      },
      "source": [
        "## ידע נדרש לפתירת האתגר:"
      ]
    },
    {
      "cell_type": "markdown",
      "metadata": {
        "id": "OjYoS3twS3i7"
      },
      "source": [
        "1. יכולת לכתוב ולהבין קוד בסיסי בפייתון\n",
        "2. הכרות עם ספריית pandas - בעיקר שימוש בסיסי ב-data frames\n",
        "3. הבנת המשמעות של feature engineering וחשיבותם בתהליך למידת המכונה. הבנה בסיסית על הקשר שבין ידע עסקי ו- features של מודל סטטיסטי."
      ]
    },
    {
      "cell_type": "markdown",
      "metadata": {
        "id": "JKZLw0ujS3i9"
      },
      "source": [
        "## מבוא - הצגת הבעיה"
      ]
    },
    {
      "cell_type": "markdown",
      "metadata": {
        "id": "M-1CeYD8S3i_"
      },
      "source": [
        "אתגר זה עוסק בסיווג של חיות על סמך גרפים שמייצגים את התנועה שלהם. <br>\n",
        "הרחפן במערכת מגיע למשבצת ואוסף מידע סנסורי המרוכז לגרף תנועה. גרף תנועה הינו רשימה של רביעיות מהצורה:\n",
        " [(ts_1,x_1,y_1,z_1),....,(ts_n,x_n,y_n,z_n)] <br>\n",
        "הגרף למעשה מייצג מיקומי גוף (יכול להיות חיה, יכול להיות רעש) במשבצת לאורך דקה שלמה של איסוף. <br>כל המיקומים מחושבים יחסית לראשית מסויימת בתוך המשבצת (ולכן כל הקורדינטות הם  בטווח\n",
        "[0,1000] שכן משבצת היא בגודל 1000 מטר על 1000 מטר). <br>\n",
        "חותמות הזמן מייצגות באיזה זמן בתוך דקת האיסוף נקלט המיקום. כך למשל הרביעייה: (12, 50, 100, 4)\n",
        "מייצגת שהרחפן קלט מידע בשנייה הרביעית בתוך הדקה המצביע על מיקום גוף ב- X=100 מטר, Y=50 מטר ו- Z=12 מטר בתוך המשבצת. <br>\n",
        "\n",
        "<br>\n",
        "באתגר זה, תקבלו מדגם אימון של חיות (או רעש) והגרפים שהרחפנים אספו עבור אותם החיות (או רעש).\n",
        "המשימה שלכם היא ללמוד מודל סטטיסטי אשר יסווג גוף על סמך גרף התנועה שהרחפן אסף עבורו (כלומר, יסווג על סמך גרף התנועה, האם הגוף שנקלט הינו חתול, כלב, תוכי, \n",
        "ארנב או למעשה גרף שמייצג רעש - כלומר שאין חיה במשבצת). \n",
        "<br><br>\n",
        "אתם תישלחו את המודל שלמדתם לשרת שלנו, ואנו נעשה בו שימוש כדי לזהות חיות במשבצות על סמך הגרפים שהרחפנים שלנו יאספו.\n",
        "<br>\n",
        "בעזרת יכולת זו נוכל לשלוח מאמצים למשבצות בצורה אוטומטית, שכן בעזרת המודל יהיה לנו יכולת טובה להבין מה יש באותה המשבצת, ובכך לבסס את החלטנו."
      ]
    },
    {
      "cell_type": "markdown",
      "metadata": {
        "id": "Txljs4vfS3jB"
      },
      "source": [
        "## ונעבור לאתגר עצמו..."
      ]
    },
    {
      "cell_type": "markdown",
      "metadata": {
        "id": "uBwOpxPcS3jE"
      },
      "source": [
        "ישנם שתי פונקציות שעליכם לממש:\n",
        "1. compute_features_df(plots) -  על פונקציה זו לחשב פיצ'רים לכל גרף תנועה, אשר בהם יעשה מודל למידת המכונה שימוש לצורך תהליך הלמידה והחיזוי\n",
        "2. learn_model(labeled_plots) - פונקציה זו תקבל את מדגם האימון ותלמד מודל סטטיסטי מתוכו. הפונקציה עושה שימוש בפונקציה compute_features_df(plots)\n",
        "\n",
        "המערכת תעשה שימוש ב-2 פונקציות אלו, אשר תממשו, על מנת ללמוד מודל סטטיסטי שיסווג חיות על סמך גרף התנועה שלהם, וכמובן כדי להשתמש באותו\n",
        "המודל לצורך סיווג חיה מתוך גרף תנועה חדש שנאסף על ידי רחפן.\n",
        "\n",
        "סיפקנו לכם במחברת זו פתרון בסיסי עבור פונקציות אלו. עליכם לנסות לשפר פתרון זה על מנת שתוכלו ללמוד מודל טוב יותר אשר מסווג בצורה מדוייקת יותר חיות על\n",
        "סמך גרף התנועה שלהם.\n",
        "\n",
        "בסוף המחברת, ישנו חלק \"הערך את עצמך\" באמצעותו תוכל לבחון עד כמה המודל שלמדתם מדוייק וטוב. \n",
        "אנו ממליצים לכם בחום רב לא לנסות ולהפוך את המודל למושלם בבת אחת - נסו לשפר אותו בשלבים (בעיקר על ידי מימוש פיצ'ר נוסף בכל פעם). לאחר כל שלב, בידקו\n",
        "את המודל על ידי החלק \"הערך את עצמך\" וכך תוכלו לראות עד כמה המודל טוב ואיפה הוא טועה ולהמשיך לשפרו במקומות הנכונים. באופן זה גם יהיה לכם פתרון עובד\n",
        "להגיש בכל רגע נתון, ותימנעו ממצב בו לא יהיה לכם זמן לממש את הרעיונות שלכם ולא תוכלו להגיש שום פתרון.\n",
        "\n",
        "כאשר מממשים מודל, מרבית המאמצים צריכים להיות ממוקדים בחישוב פיצ'רים שיכולים לסייע בסיווג. לכן גם כאן, הפונקציה המרכזית שאנו ממליצים לכם להתמקד בשיפורה\n",
        "במחברת זו היא הפונקציה compute_features_df(plots).\n",
        "\n",
        "כמו בכל בעיה אמיתית, כדי לחשב פיצ'רים טובים, עליכם להיות בעלי הבנה עסקית טובה - בהקשר זה: להבין אילו פיצ'רים של גרף תנועה יכולים\n",
        "לסייע לכם להבחין בין חיות (ובין הימצאותה של חיה במשבצת לאי הימצאותה).\n",
        "לצורך כך סיפקנו לכם את כל הידע העסקי הרלוונטי לפתרון הבעיה, בחלק הבא של המחברת:"
      ]
    },
    {
      "cell_type": "markdown",
      "metadata": {
        "id": "a547ZvAES3jJ"
      },
      "source": [
        "## ידע עסקי על התנהגותם של חיות\n",
        "\n",
        "1. כל משבצת בלוח יכולה להכיל את אחת מהחיות הבאות: 'rabbit', 'parrot', 'cat', 'dog', 'None'\n",
        "    ('None' מייצג שאין חיה במשבצת)\n",
        "\n",
        "2. קשה לסנסורים של רחפן לזהות חיות קטנות ומהירות, לכן במקרים שכאלו ככל הנראה יהיה מידע חסר בגרף התנועה שהרחפן אסף (כלומר, נקודות זמן בהם אין דגימות). \n",
        "    ככל שהחיה זזה באופן מוזר ומהיר יותר - כך יש יותר \"חורים\" בגרף התנועה של החיה (כלומר, נקודות זמן בהם אין מידע על מיקום החיה, בגרף התנועה של החיה)\n",
        "\n",
        "3. ישנם חיות שיש להם יכולת תנועה מהירה יותר מחיות אחרות\n",
        "\n",
        "4. ישנם חיות אשר נוטות לנוע במקומות קטנים וסגורים, בעוד שחיות אחרות נעות באזורים פתוחים ונרחבים יותר. כלומר: נוודים מול יושבי קבע\n",
        "\n",
        "5. תוכים עפים בעוד שחיות אחרות נעות על פני הקרקע\n",
        "\n",
        "6. חיות בקרקע נוטות לקפוץ מעת לעת - הנטייה של חיה לקפוץ משתנה מחיה לחיה, וגם גודל הקפיצה של חיה שונה בין סוגי חיות שונים\n"
      ]
    },
    {
      "cell_type": "markdown",
      "metadata": {
        "id": "o1Kt4NSoS3jL"
      },
      "source": [
        "## הפונקציות שעליכם לממש"
      ]
    },
    {
      "cell_type": "markdown",
      "metadata": {
        "id": "4rHdOpQAS3jM"
      },
      "source": [
        "הפונקציה המרכזית שאנו ממליצים לכם להתמקד בה היא הפונקציה: compute_features_df(plots).<br>\n",
        "פונקציה זו מחשבת פיצ'רים לכל גרף תנועה של חיה.\n",
        "על הפיצ'רים לייצג את התנהגותה של החיה, באמצעות מספר בודד. <br> \n",
        "בסופו של דבר, פונקציית למידת המכונה תעשה שימוש בפיצ'רים שחישבתם בפונקציה זו על מנת\n",
        "ללמוד מודל שבהינתן גרף תנועה של חיה יחזה את סוג החיה המתאימה לגרף זה.<br>\n",
        "כדי לקרוא מעט יותר על פיצ'רים ואיך לחשבם, ניתן להיעזר בקישורים הבאים (לפי הסדר): <br>\n",
        "<br>\n",
        "https://en.wikipedia.org/wiki/Feature_(machine_learning) <br>\n",
        "https://www.quora.com/What-is-feature-engineering   <br>\n",
        "https://machinelearningmastery.com/discover-feature-engineering-how-to-engineer-features-and-how-to-get-good-at-it/  <br>\n",
        "\n",
        "<br>\n",
        "כדי לממש את הפיצ'רים הרלוונטיים עליכם להתמקד במידע העסקי שהובא בחלק הקודם, ולנסות לכמת את התנהגויות החיות המתוארות בו באמצעות הפיצ'רים הרלוונטיים.\n",
        "למשל: בפתרון הבסיסי שסיפקנו לכם, מידלנו את התנהגות מס' 6 אשר מופיע במידע העסקי באמצעות פיצ'ר. נסו לחשוב כיצד אתם יכולים למדל את שאר ההתנהגויוץת.\n"
      ]
    },
    {
      "cell_type": "code",
      "metadata": {
        "id": "owAGdojDS3jN"
      },
      "source": [
        "import pandas as pd\n",
        "def compute_features_df(plots):\n",
        "    \"\"\"\n",
        "    קלט:\n",
        "        plots - רשימה של גרפי תנועה של חיות, כלומר רשימה מהצורה:\n",
        "                [plot_1, plot_2,..., plot_n]\n",
        "                כל גרף ברשימה זו מיוצג באמצעות רשומה של רביעיות. כלומר כל גרף ברשימה זו יהיה מהצורה הבאה:\n",
        "                [(ts_1, x_1, y_1, z_1),...., (ts_n, x_n, y_n, z_n)]\n",
        "                הערה: ניתן להניח שגובה פני הקרקע הוא 0 בכל רגע נתון, כלומר אין טופוגרפיה.\n",
        "    פלט: \n",
        "        דאטה-פריים של פנדה המכיל את הפיצ'רים שחושבו\n",
        "    \"\"\"\n",
        "    total_jumps = [computeTotalJumps(plot) for plot in plots]\n",
        "    avg_jump = [computeAvgJumps(plot) for plot in plots]\n",
        "    total_distance=[computeDistance(plot) for plot in plots]\n",
        "    max_dis=[computeMaxDist(plot) for plot in plots]\n",
        "    min_dis=[computeMinDist(plot) for plot in plots]\n",
        "    dif_dis=[computeDifDist(plot) for plot in plots]\n",
        "    max_jump=[computeMaxJump(plot) for plot in plots]\n",
        "    change_direct=[computeChabgeDirection(plot) for plot in plots]\n",
        "    period_lost=[periodOfPlot(plot) for plot in plots]\n",
        "    # נסו לחשב עוד פיצ'רים בהתאם למידע העסקי שהובא ולהוסיף אותם לדטה-פריים:\n",
        "    df = pd.DataFrame({\"total_jumps\": total_jumps,\n",
        "                       \"jumpOverTwoMeters\":avg_jump,\n",
        "                       \"distance\":total_distance,\n",
        "                       \"maxDist\":max_dis,\n",
        "                       \"minDist\":min_dis,\n",
        "                       \"difDis\":dif_dis,\n",
        "                       \"maxJump\":max_jump,\n",
        "                       \"changeDirection\":change_direct,\n",
        "                       \"period\":period_lost})\n",
        "    return df\n",
        "\n",
        "def computeTotalJumps(plot):\n",
        "    \"\"\"\n",
        "    קלט:\n",
        "        plot:\n",
        "            רשימה מהצורה:\n",
        "            [(ts_1, x_1, y_1, z_1),...., (ts_n, x_n, y_n, z_n)]\n",
        "            רשימה זו מייצגת תנועה של חיה בתוך משבצת במשך דקה של איסוף מידע. \n",
        "    פלט:\n",
        "            מספר הנקודות בגרף שהינן קפיצה - קורלטיבי להסתברות של חיה לקפוץ.\n",
        "    \"\"\"\n",
        "    # שימו לב: פיצ'ר זה רחוק מלהיות מדוייק (למשל, חישבו מה קורה כאשר חיה מבצעת קפיצה ארוכה שאורכת יותר ממספר שניות) , אולם חשוב להבין שכאשר\n",
        "    # ממדלים התנהגויות באמצעות פיצ'רים, אין תמיד צורך לחשב את הפיצ'ר בצורה הכי מדוייקת, אלא לתפוס מספר מספיק משמעותי שיבטא התנהגויות שונות בין חיות\n",
        "    # לכן, במחברת זו (ובחיים) - הימנעו מלהשקיע יותר מידי זמן במימוש פיצ'רים בצורה הכי מושלמת ונסו להסתפק במידול סביר תוך כיסוי כל ההתנהגויות.\n",
        "    return sum([point[-1]>0 for point in plot])\n",
        "\n",
        "\n",
        "def computeAvgJumps(plot):\n",
        "    \"\"\"\n",
        "    קלט:\n",
        "        plot:\n",
        "            רשימה מהצורה:\n",
        "            [(ts_1, x_1, y_1, z_1),...., (ts_n, x_n, y_n, z_n)]\n",
        "            רשימה זו מייצגת תנועה של חיה בתוך משבצת במשך דקה של איסוף מידע. \n",
        "    פלט:\n",
        "            ממוצע גובה הקפיצה עבור כל דקה - קורלטיבי להסתברות של חיה לקפוץ.\n",
        "\n",
        "  \"\"\"\n",
        "\n",
        "    # שימו לב: פיצ'ר זה רחוק מלהיות מדוייק (למשל, חישבו מה קורה כאשר חיה מבצעת קפיצה ארוכה שאורכת יותר ממספר שניות) , אולם חשוב להבין שכאשר\n",
        "    # ממדלים התנהגויות באמצעות פיצ'רים, אין תמיד צורך לחשב את הפיצ'ר בצורה הכי מדוייקת, אלא לתפוס מספר מספיק משמעותי שיבטא התנהגויות שונות בין חיות\n",
        "    # לכן, במחברת זו (ובחיים) - הימנעו מלהשקיע יותר מידי זמן במימוש פיצ'רים בצורה הכי מושלמת ונסו להסתפק במידול סביר תוך כיסוי כל ההתנהגויות.\n",
        "    jumps=[point[-1] for point in plot if [point[-1]>0]]\n",
        "    return sum(jumps)/len(jumps)\n",
        "  \n",
        "\n",
        "def computeDistance(plot):\n",
        "  \"\"\"\n",
        "    קלט:\n",
        "        plot:\n",
        "            רשימה מהצורה:\n",
        "            [(ts_1, x_1, y_1, z_1),...., (ts_n, x_n, y_n, z_n)]\n",
        "            רשימה זו מייצגת תנועה של חיה בתוך משבצת במשך דקה של איסוף מידע. \n",
        "    פלט:\n",
        "            סכום המרחק עבור כל דקה - המרחק שעברה כל חיה בדקה אחת.\n",
        "\n",
        "  \"\"\"\n",
        "  dis=0\n",
        "  for i in range(len(plot)-1):\n",
        "    a=plot[i+1][1]-plot[i][1]\n",
        "    b=plot[i+1][2]-plot[i][2]\n",
        "    dis+=(a**2+b**2)**0.5\n",
        "  return dis\n",
        "\n",
        "\n",
        "def computeMaxDist(plot):\n",
        "  \"\"\"\n",
        "    קלט:\n",
        "        plot:\n",
        "            רשימה מהצורה:\n",
        "            [(ts_1, x_1, y_1, z_1),...., (ts_n, x_n, y_n, z_n)]\n",
        "            רשימה זו מייצגת תנועה של חיה בתוך משבצת במשך דקה של איסוף מידע. \n",
        "    פלט:\n",
        "            מקסימום מרחק שעברה החיה בדקה אחת- קורלטיבי מהירות החיה.\n",
        "\n",
        "  \"\"\"\n",
        "  dis=[]\n",
        "  for i in range(len(plot)-1):\n",
        "    a=plot[i+1][1]-plot[i][1]\n",
        "    b=plot[i+1][2]-plot[i][2]\n",
        "    dis.append((a**2+b**2)**0.5)\n",
        "\n",
        "  return max(dis)\n",
        "\n",
        "\n",
        "def computeMinDist(plot):\n",
        "  \"\"\"\n",
        "    קלט:\n",
        "        plot:\n",
        "            רשימה מהצורה:\n",
        "            [(ts_1, x_1, y_1, z_1),...., (ts_n, x_n, y_n, z_n)]\n",
        "            רשימה זו מייצגת תנועה של חיה בתוך משבצת במשך דקה של איסוף מידע. \n",
        "    פלט:\n",
        "            מינימום מרחק שעברה החיה בדקה אחת- קורלטיבי האם החיה נחה\n",
        "\n",
        "  \"\"\"\n",
        "  dis=[]\n",
        "  for i in range(len(plot)-1):\n",
        "    a=plot[i+1][1]-plot[i][1]\n",
        "    b=plot[i+1][2]-plot[i][2]\n",
        "    dis.append((a**2+b**2)**0.5)\n",
        "  return min(dis)\n",
        "\n",
        "\n",
        "def computeDifDist(plot):\n",
        "  \"\"\"\n",
        "    קלט:\n",
        "        plot:\n",
        "            רשימה מהצורה:\n",
        "            [(ts_1, x_1, y_1, z_1),...., (ts_n, x_n, y_n, z_n)]\n",
        "            רשימה זו מייצגת תנועה של חיה בתוך משבצת במשך דקה של איסוף מידע. \n",
        "    פלט:\n",
        "            הפרש בין מינימום מרחק למקסימום מרחק- קורלטיבי התקדמות החיה.\n",
        "\n",
        "  \"\"\"\n",
        "  dis=[]\n",
        "  for i in range(len(plot)-1):\n",
        "    a=plot[i+1][1]-plot[i][1]\n",
        "    b=plot[i+1][2]-plot[i][2]\n",
        "    dis.append((a**2+b**2)**0.5)\n",
        "  return max(dis)-min(dis)\n",
        "\n",
        "\n",
        "\n",
        "def computeMaxJump(plot):\n",
        "  \"\"\"\n",
        "    קלט:\n",
        "        plot:\n",
        "            רשימה מהצורה:\n",
        "            [(ts_1, x_1, y_1, z_1),...., (ts_n, x_n, y_n, z_n)]\n",
        "            רשימה זו מייצגת תנועה של חיה בתוך משבצת במשך דקה של איסוף מידע. \n",
        "    פלט:\n",
        "            .מקסימום קפיצה בדקה\n",
        "\n",
        "  \"\"\"\n",
        "  return max([point[-1] for point in plot])\n",
        "\n",
        "\n",
        "def computeChabgeDirection(plot):\n",
        "  \"\"\"\n",
        "    קלט:\n",
        "        plot:\n",
        "            רשימה מהצורה:\n",
        "            [(ts_1, x_1, y_1, z_1),...., (ts_n, x_n, y_n, z_n)]\n",
        "            רשימה זו מייצגת תנועה של חיה בתוך משבצת במשך דקה של איסוף מידע. \n",
        "    פלט:\n",
        "            .מספר שינויי כיוון- נגזרת ראשונה\n",
        "\n",
        "  \"\"\"\n",
        "  count=0\n",
        "  for i in range(1,len(plot)-1):\n",
        "    x_prev=plot[i+1][1]-plot[i][1]\n",
        "    x_next=plot[i][1]-plot[i-1][1]\n",
        "    y_prev=plot[i+1][2]-plot[i][2]\n",
        "    y_next=plot[i][2]-plot[i-1][2]\n",
        "    if (x_next>0 and x_prev<0) or (x_next<0 and x_prev>0):\n",
        "      count+=1\n",
        "    if (y_next>0 and y_prev<0) or (y_next<0 and y_prev>0):\n",
        "      count+=1\n",
        "  return count\n",
        "\n",
        "\n",
        "def periodOfPlot(plot):\n",
        "  \"\"\"\n",
        "    קלט:\n",
        "        plot:\n",
        "            רשימה מהצורה:\n",
        "            [(ts_1, x_1, y_1, z_1),...., (ts_n, x_n, y_n, z_n)]\n",
        "            רשימה זו מייצגת תנועה של חיה בתוך משבצת במשך דקה של איסוף מידע. \n",
        "    פלט:\n",
        "            .מספר איבודי מידע עקב התקדמות מהירה או מוזרה\n",
        "\n",
        "  \"\"\"\n",
        "  return len(plot)\n",
        "\n",
        "\n"
      ],
      "execution_count": 9,
      "outputs": []
    },
    {
      "cell_type": "code",
      "metadata": {
        "id": "H9_AUr26S3ja"
      },
      "source": [
        "import numpy as np\n",
        "from sklearn.ensemble import RandomForestClassifier\n",
        "\n",
        "def train_model(features_vectors, labels):\n",
        "    \"\"\"\n",
        "    קלט:\n",
        "        features_vectors - pandas dataFrame that contain features_vectors computed from the train data using\n",
        "            the compute_features_df(plot) function you implemented above.\n",
        "    \n",
        "        labels - the labels of the features vectors. i.e. labels[i] is the animals that corresponds to the feature_vector\n",
        "                in features_vectors[i]. \n",
        "        \n",
        "    output:\n",
        "        מודל שאומן על מדגם האימון (Scikit-learn model)\n",
        "    \"\"\"\n",
        "    # זהו שלב האימון עצמו. כאן נבצע את הלמידה באמצעות אלגוריתם רנדום-פורסט. מדובר במודל מצויין ואנו לו ממליצים להשקיע יותר מידי\n",
        "    # זמן בלנסות למצוא מודל טוב יותר - השיפור המרבי טמון בשיפור הפיצ'רים מהפונקציה הקודמת (כמו בעולם האמיתי):\n",
        "    model = RandomForestClassifier(n_estimators=1000).fit(features_vectors, labels)\n",
        "    return model\n",
        "    "
      ],
      "execution_count": 10,
      "outputs": []
    },
    {
      "cell_type": "markdown",
      "metadata": {
        "id": "xBJBDTd3S3ji"
      },
      "source": [
        "## העריכו את עצמכם:"
      ]
    },
    {
      "cell_type": "markdown",
      "metadata": {
        "id": "Lyqd_yHiS3jj"
      },
      "source": [
        "בחלק זה נסייע לכם להעריך עד כמה המודל שלמדתם מוצלח.\n",
        "כדי להריץ חלק זה, היעזרו בקובץ ה-pickle שסיפקנו לכם (תוכלו להוריד אותו מספריית הגיט)\n",
        "<br>\n",
        "שימו את קובץ ה-pickle במקום נוח במחשב שלכם, ועדכנו את הכתובת שלו במחשב המקומי בשורת הקוד הבאה:\n"
      ]
    },
    {
      "cell_type": "code",
      "metadata": {
        "id": "Yo8u3dJUS3jk"
      },
      "source": [
        "# עליכם לשנות קבוע זה לכתובת בו שמרת את פיקל האימון במחשב המקומי שלכם\n",
        "TRAIN_DATA_PATH = \"train_data.pickle\""
      ],
      "execution_count": 11,
      "outputs": []
    },
    {
      "cell_type": "markdown",
      "metadata": {
        "id": "nhzNGWRPS3ju"
      },
      "source": [
        "מצויין!\n",
        "כעת הריצו את הקוד בחלק הבא.\n",
        "קוד זה מבצע את הדברים הבאים:\n",
        "1. מטעין את מדגם האימון מתוך קובץ ה-pickle\n",
        "2. מחשב פיצ'רים על מדגם האימון על ידי הפונקציה שמימשתם (compute_features_df)\n",
        "3. מחלק את וקטורי הפיצ'רים לקבוצת אימון וקבוצת ולידציה\n",
        "4. לומד מודל סטטיסטי על קבוצת האימון על ידי שימוש בפונקציה train_model שמימשתך\n",
        "5. מעריך את איכות המודל שנלמד על קבוצת הולידציה, ומערך את הדיוק של המודל ואת ה-confusion_matrix שלו למסך\n"
      ]
    },
    {
      "cell_type": "code",
      "metadata": {
        "id": "XXMTWEZ7S3jw"
      },
      "source": [
        "import pickle\n",
        "import numpy as np\n",
        "from sklearn.metrics import confusion_matrix\n",
        "\n",
        "def load_train_data(path):\n",
        "    \"\"\"\n",
        "    פונקציה זו טוענת את מדגם האימון מתוך קובץ הפיקל\n",
        "    \"\"\"\n",
        "    with open(path, 'rb') as f:\n",
        "        labeled_plots = pickle.load(f)\n",
        "    return labeled_plots\n",
        "\n",
        "def split_train_test(df):\n",
        "    \"\"\"\n",
        "    df:\n",
        "        דאטה-פריים של פנדה שמכיל וקטורי פיצ'רים ועמודה של תגיות עבורם\n",
        "    return:\n",
        "        הפונקציה תחלק את הדאטה-פריים ל-4 קבוצות:\n",
        "        train_x - וקטורי פיצרים של מדגם אימון\n",
        "        train_y - תגיות של מדגם האימון\n",
        "        test_x - וקטורי פיצ'רים של קבוצת המבחן\n",
        "        test_y - תגיות של קבוצת המבחן\n",
        "        החלוקה מתבצעת באופן אקראי כך ש-80 אחוזים מהמידע נמצאים מדגם האימון ו-20 אחוז האחרים נמצאים בקבוצת המבחן.\n",
        "    \"\"\"\n",
        "    split_mask = np.random.rand(len(df)) < 0.8\n",
        "    x_train = df[split_mask]\n",
        "    y_train = x_train[\"label\"]\n",
        "    x_train.drop([\"label\"], axis=1, inplace=True)\n",
        "    x_test = df[~split_mask]\n",
        "    y_test = x_test[\"label\"]\n",
        "    x_test.drop([\"label\"], axis=1, inplace=True)\n",
        "    return x_train, y_train, x_test, y_test\n",
        "\n",
        "from matplotlib.colors import LogNorm\n",
        "\n",
        "import seaborn as sns\n",
        "def evaluate_predictions(predictions, labels):\n",
        "    \"\"\"\n",
        "    predictions:\n",
        "        החיזויים שהמודל הסטטיסטי נתן על קבוצת הולידציה\n",
        "    labels:\n",
        "       התיוגים האמיתיים של הוקטורים בקבוצת הולידציה\n",
        "    \n",
        "    הפונקציה תדפיס את הדיוק של המודל ואת מטריצת הבלבול שלו. אלו יכולים לסייע לכם להעריך את המודל ולהבין באילו מקרים הוא טועה\n",
        "    \"\"\"\n",
        "    total_accuracy = np.mean(predictions==labels)\n",
        "    #  כלל שהדיוק גבוה יותר, כך המודל טוב יותר. מודל עם 100 אחוז דיוק הוא מודל מושלם\n",
        "    # עבור אתגר זה, מודל עם דיוק של מעל 95 אחוזים הוא מודל טוב, ועם דיוק של מעל 98 אחוזים הוא מודל מצויין\n",
        "\n",
        "    print(\"total accuracy: {0}\".format(total_accuracy))\n",
        "    # מטריצת בלבול היא דרך מצויינת לבדוק באילו מקרים המודל שלכם טועה. אנו ממליצים לכם לעיין בקישורים הבאים כדי להבין כיצד לנתח מטריצה זו:\n",
        "    # https://scikit-learn.org/stable/modules/generated/sklearn.metrics.confusion_matrix.html\n",
        "    # https://stats.stackexchange.com/questions/95209/how-can-i-interpret-sklearn-confusion-matrix\n",
        "    print(\"confusion matrix:\")\n",
        "    matrix = confusion_matrix(labels, predictions, labels=[\"None\", \"dog\", \"cat\", \"rabbit\", \"parrot\"])\n",
        "    print(matrix)\n",
        "    sns.heatmap(matrix,  norm=LogNorm())"
      ],
      "execution_count": 12,
      "outputs": []
    },
    {
      "cell_type": "code",
      "metadata": {
        "id": "sJjlqNd0S3kn",
        "outputId": "82e0f80a-7022-4063-fef8-b105dd447611",
        "colab": {
          "base_uri": "https://localhost:8080/",
          "height": 489
        }
      },
      "source": [
        "labeled_plots = load_train_data(TRAIN_DATA_PATH)\n",
        "df = compute_features_df([plot for plot, label in labeled_plots]) \n",
        "df[\"label\"] = [label for plot, label in labeled_plots]\n",
        "x_train, y_train, x_test, y_test = split_train_test(df)\n",
        "\n",
        "model = train_model(x_train, y_train) #  כאן אנו לומדים מודל באמצעות הפונקציה שמימשתך\n",
        "predictions = model.predict(x_test) # ביצוע חיזויים על קבוצת המבחן, באמצעות המודל שנלמד\n",
        "# חלק זה ידפיס הערכות על המודל שלכם, אנא קראו את מימוש הפונקציה כדי להבין כיצד לנתח את הפלטים המודפסים\n",
        "evaluate_predictions(predictions, y_test)"
      ],
      "execution_count": 13,
      "outputs": [
        {
          "output_type": "stream",
          "text": [
            "/usr/local/lib/python3.6/dist-packages/pandas/core/frame.py:4169: SettingWithCopyWarning: \n",
            "A value is trying to be set on a copy of a slice from a DataFrame\n",
            "\n",
            "See the caveats in the documentation: https://pandas.pydata.org/pandas-docs/stable/user_guide/indexing.html#returning-a-view-versus-a-copy\n",
            "  errors=errors,\n"
          ],
          "name": "stderr"
        },
        {
          "output_type": "stream",
          "text": [
            "total accuracy: 0.9994892747701737\n",
            "confusion matrix:\n",
            "[[1672    0    0    0    0]\n",
            " [   0   82    1    0    0]\n",
            " [   0    0   82    0    0]\n",
            " [   0    0    0   68    0]\n",
            " [   0    0    0    0   53]]\n"
          ],
          "name": "stdout"
        },
        {
          "output_type": "display_data",
          "data": {
            "image/png": "[encoded data removed]",
            "text/plain": [
              "<Figure size 432x288 with 2 Axes>"
            ]
          },
          "metadata": {
            "tags": [],
            "needs_background": "light"
          }
        }
      ]
    },
    {
      "cell_type": "markdown",
      "metadata": {
        "id": "-jouRL-xcDPz"
      },
      "source": [
        "# Explore plots\n",
        "##### to show the difference between the items you can use this part."
      ]
    },
    {
      "cell_type": "code",
      "metadata": {
        "id": "fZre6bEWcGtf",
        "outputId": "68c6e156-d7e6-4e7e-eb12-5a74d881ba6d",
        "colab": {
          "base_uri": "https://localhost:8080/",
          "height": 283
        }
      },
      "source": [
        "with open('train_data.pickle', 'rb') as f:\n",
        "  data = pickle.load(f)\n",
        "id = 300\n",
        "pd.DataFrame(data[id][0])[1].plot()\n",
        "data[id][1]"
      ],
      "execution_count": 6,
      "outputs": [
        {
          "output_type": "execute_result",
          "data": {
            "application/vnd.google.colaboratory.intrinsic+json": {
              "type": "string"
            },
            "text/plain": [
              "'dog'"
            ]
          },
          "metadata": {
            "tags": []
          },
          "execution_count": 6
        },
        {
          "output_type": "display_data",
          "data": {
            "image/png": "[encoded data removed]",
            "text/plain": [
              "<Figure size 432x288 with 1 Axes>"
            ]
          },
          "metadata": {
            "tags": [],
            "needs_background": "light"
          }
        }
      ]
    },
    {
      "cell_type": "markdown",
      "metadata": {
        "id": "lhu1MeAIcFqN"
      },
      "source": [
        ""
      ]
    },
    {
      "cell_type": "markdown",
      "metadata": {
        "id": "H_YDXooJS3ky"
      },
      "source": [
        "## שליחת הפתרון שלכם"
      ]
    },
    {
      "cell_type": "markdown",
      "metadata": {
        "id": "c2q6yL4jS3kz"
      },
      "source": [
        "סיימתם? הידד! כעת הגיעה הזמן לשלוח את הפתרון שלכם לשרת שלנו.\n",
        "לצורך כך, אנא עקבו אחרי הצעדים הבאים:\n",
        "\n",
        "1. העתיקו את הקוד שלכם לקובץ פייתון. ניתן לעשות את זה בנקל בדרך הבאה: <br>\n",
        "    a. הקליקו על \"File\" בתפריט העליון (פינה ימנית או שמאלית) <br>\n",
        "    b. בתפריט שנפתח, הקליקו על \"Download as\" <br>\n",
        "    c. כעת, בתת התפריט שנפתח הקליקו על \"python\" <br>\n",
        "    d. שנו את שם הקובץ שלכם ל- \"team2_ai_solution.py\" ושימרו אותו במקום נוח במחשב שלכם <br><br>\n",
        "2. פיתחו את הקובץ ששמרתם בסביבת הפיתוח המועדפת עליכם (notepad++ יהיה לגמרי בסדר עבור צורך זה)\n",
        "<br><br>\n",
        "3. מחקו מקובץ הפייתון שלכם את כל הקוד שנמצא אחרי החלק: \"העריכו את עצמכם\", כך שבסופו של יום אתם צריכים להשאיר בקובץ רק את הפונקציות compute_features_df ו- train_model \n",
        "    וכמובן כל פונקציות העזר האחרות הדרושות עבורן. <br>\n",
        "    תוכלו להסתכל על קובץ הפייתון הבסיסי שנמצא בספריית הגיט של האתגר, כדי להבין כיצד על קובץ זה להיראות\n",
        "<br> <br>\n",
        "4. דיחפו את הקוד שלכם לספריית ה-git "
      ]
    },
    {
      "cell_type": "markdown",
      "metadata": {
        "id": "niqZHdFzS3k0"
      },
      "source": [
        "### בהצלחה!"
      ]
    }
  ]
}